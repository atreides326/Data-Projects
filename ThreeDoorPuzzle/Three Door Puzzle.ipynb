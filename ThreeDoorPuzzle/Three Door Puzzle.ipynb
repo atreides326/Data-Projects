{
 "cells": [
  {
   "cell_type": "markdown",
   "metadata": {},
   "source": [
    "# Three Door Puzzle aka Monty Hall Problem"
   ]
  },
  {
   "cell_type": "markdown",
   "metadata": {},
   "source": [
    "### The Puzzle\n",
    "You are a contestant on a TV Show asked to select 1 of 3 doors. Two of the doors have goats behind them. One has a car. You make your selection (door 1), next the host opens one of the remaining doors, revealing a goat. You have the opportunity to switch doors or keep your original choice. Should you? If instead of 3 doors there are 10 doors. You choose one and the host reveals 8 of the 9 remaining doors. Do you keep your original or switch?"
   ]
  },
  {
   "cell_type": "code",
   "execution_count": 1,
   "metadata": {},
   "outputs": [],
   "source": [
    "import random"
   ]
  },
  {
   "cell_type": "code",
   "execution_count": 2,
   "metadata": {},
   "outputs": [],
   "source": [
    "random.seed(42)"
   ]
  },
  {
   "cell_type": "code",
   "execution_count": 3,
   "metadata": {},
   "outputs": [],
   "source": [
    "def monty_hall(num_rounds,doors):\n",
    "    '''\n",
    "    Pass in #rounds you want to play and #doors you have to choose from. Create a list and fill with with random numbers.\n",
    "    This list (true_door) represents which door has the prize. (eg: 3 doors = 0,1,2 as choices). Feed true_door into two scenarios.\n",
    "    If door is kept how many correct guess? If door is switched how many correct? \n",
    "    '''\n",
    "    true_door = list()\n",
    "    for x in range(num_rounds):\n",
    "        true_door.append(random.randint(0,doors-1))\n",
    "    #print(true_door)\n",
    "    keep_door(doors,true_door)\n",
    "    switch_door(doors,true_door)\n",
    "    del true_door \n",
    "        "
   ]
  },
  {
   "cell_type": "code",
   "execution_count": 4,
   "metadata": {},
   "outputs": [],
   "source": [
    "def keep_door(n_doors,true_door_list):\n",
    "    '''\n",
    "    Pass in n doors and the list of door prize locations. For each item in list generate a random guess. If guess is correct add \n",
    "    to the correct_guess variable. If you keep your original guess odds should be 1 in n doors. The more rounds played the \n",
    "    closer to 1/n  \n",
    "    '''\n",
    "    correct_guess = 0\n",
    "    for x in range(len(true_door_list)):\n",
    "        guess = random.randint(0,n_doors-1)\n",
    "        if guess == true_door_list[x]:\n",
    "            correct_guess += 1            \n",
    "    print(\"Correct Guess if stayed:  \",correct_guess/len(true_door_list))"
   ]
  },
  {
   "cell_type": "code",
   "execution_count": 5,
   "metadata": {},
   "outputs": [],
   "source": [
    "def switch_door(n_doors,true_door_list):\n",
    "    '''\n",
    "    Pass in n doors and the list of door prize locations. For each item in list generate a random guess. If the random guess equals\n",
    "    the door prize location you lose. The rest of the time you win since you know the wrong door has be eliminated by the host.\n",
    "    '''\n",
    "    correct_guess = 0\n",
    "    for x in range(len(true_door_list)):\n",
    "        guess = random.randint(0,n_doors-1)\n",
    "        if guess == true_door_list[x]:\n",
    "            correct_guess += 0\n",
    "        else:\n",
    "            correct_guess +=1     \n",
    "    print(\"Correct Guess if switch:  \",correct_guess/len(true_door_list))"
   ]
  },
  {
   "cell_type": "markdown",
   "metadata": {},
   "source": [
    "### Examples"
   ]
  },
  {
   "cell_type": "markdown",
   "metadata": {},
   "source": [
    "Lets play 50 rounds of guessing with 3 doors to choose from. If you keep your original guess we expect 1/3 times to be correct. If you switch your guess the remainder 2/3 times you win. "
   ]
  },
  {
   "cell_type": "code",
   "execution_count": 6,
   "metadata": {},
   "outputs": [
    {
     "name": "stdout",
     "output_type": "stream",
     "text": [
      "Correct Guess if stayed:   0.38\n",
      "Correct Guess if switch:   0.64\n"
     ]
    }
   ],
   "source": [
    "monty_hall(50,3)"
   ]
  },
  {
   "cell_type": "markdown",
   "metadata": {},
   "source": [
    "Lets try 3 doors with 30,300,3000,30000 rounds and again with 30 doors and 300 doors"
   ]
  },
  {
   "cell_type": "code",
   "execution_count": 7,
   "metadata": {},
   "outputs": [
    {
     "name": "stdout",
     "output_type": "stream",
     "text": [
      "multi:  30\n",
      "Correct Guess if stayed:   0.43333333333333335\n",
      "Correct Guess if switch:   0.7333333333333333\n",
      "multi:  300\n",
      "Correct Guess if stayed:   0.32\n",
      "Correct Guess if switch:   0.65\n",
      "multi:  3000\n",
      "Correct Guess if stayed:   0.32033333333333336\n",
      "Correct Guess if switch:   0.6713333333333333\n",
      "multi:  30000\n",
      "Correct Guess if stayed:   0.331\n",
      "Correct Guess if switch:   0.6701666666666667\n"
     ]
    }
   ],
   "source": [
    "for i in [30,300,3000,30000]:\n",
    "    multiplier = i\n",
    "    print('multi: ', i)\n",
    "    monty_hall(multiplier,3)"
   ]
  },
  {
   "cell_type": "code",
   "execution_count": 8,
   "metadata": {},
   "outputs": [
    {
     "name": "stdout",
     "output_type": "stream",
     "text": [
      "multi:  30\n",
      "Correct Guess if stayed:   0.0\n",
      "Correct Guess if switch:   0.9\n",
      "multi:  300\n",
      "Correct Guess if stayed:   0.016666666666666666\n",
      "Correct Guess if switch:   0.98\n",
      "multi:  300\n",
      "Correct Guess if stayed:   0.02\n",
      "Correct Guess if switch:   0.9733333333333334\n",
      "multi:  3000\n",
      "Correct Guess if stayed:   0.034333333333333334\n",
      "Correct Guess if switch:   0.965\n"
     ]
    }
   ],
   "source": [
    "for i in [30,300,300,3000]:\n",
    "    multiplier = i\n",
    "    print('multi: ', i)\n",
    "    monty_hall(multiplier,30)"
   ]
  },
  {
   "cell_type": "code",
   "execution_count": 9,
   "metadata": {},
   "outputs": [
    {
     "name": "stdout",
     "output_type": "stream",
     "text": [
      "multi:  30\n",
      "Correct Guess if stayed:   0.0\n",
      "Correct Guess if switch:   1.0\n",
      "multi:  300\n",
      "Correct Guess if stayed:   0.0033333333333333335\n",
      "Correct Guess if switch:   0.9966666666666667\n",
      "multi:  300\n",
      "Correct Guess if stayed:   0.0\n",
      "Correct Guess if switch:   0.9966666666666667\n",
      "multi:  3000\n",
      "Correct Guess if stayed:   0.0023333333333333335\n",
      "Correct Guess if switch:   0.9986666666666667\n"
     ]
    }
   ],
   "source": [
    "for i in [30,300,300,3000]:\n",
    "    multiplier = i\n",
    "    print('multi: ', i)\n",
    "    monty_hall(multiplier,300)"
   ]
  }
 ],
 "metadata": {
  "kernelspec": {
   "display_name": "Python 3",
   "language": "python",
   "name": "python3"
  },
  "language_info": {
   "codemirror_mode": {
    "name": "ipython",
    "version": 3
   },
   "file_extension": ".py",
   "mimetype": "text/x-python",
   "name": "python",
   "nbconvert_exporter": "python",
   "pygments_lexer": "ipython3",
   "version": "3.7.0"
  }
 },
 "nbformat": 4,
 "nbformat_minor": 2
}
